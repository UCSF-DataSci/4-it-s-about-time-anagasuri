{
 "cells": [
  {
   "cell_type": "markdown",
   "metadata": {},
   "source": [
    "# Part 2: Time Series Modeling\n",
    "\n",
    "In this notebook, you will implement functions to extract features from time series data and build ARIMA models."
   ]
  },
  {
   "cell_type": "code",
   "execution_count": 4,
   "metadata": {},
   "outputs": [],
   "source": [
    "# Import required libraries\n",
    "import numpy as np\n",
    "import pandas as pd\n",
    "import matplotlib.pyplot as plt\n",
    "import seaborn as sns\n",
    "from statsmodels.tsa.arima.model import ARIMA\n",
    "from pathlib import Path\n",
    "import os\n",
    "\n",
    "# Set style for plots\n",
    "sns.set_theme()\n",
    "%matplotlib inline"
   ]
  },
  {
   "cell_type": "markdown",
   "metadata": {},
   "source": [
    "## 1. Feature Extraction\n",
    "\n",
    "Implement the `extract_time_series_features` function to calculate rolling window features."
   ]
  },
  {
   "cell_type": "code",
   "execution_count": 5,
   "metadata": {},
   "outputs": [],
   "source": [
    "# Load preprocessed combined dataset\n",
    "processed_data = pd.read_csv(\n",
    "    '/workspaces/4-it-s-about-time-anagasuri/a-wearable-exam-stress-dataset-for-predicting-cognitive-performance-in-real-world-settings-1.0.0/Data/Processed/all_subjects_combined.csv',\n",
    "    parse_dates=['timestamp']  # Ensures timestamp is parsed as datetime\n",
    ")\n",
    "\n",
    "def extract_time_series_features(data, window_size=60):\n",
    "    \"\"\"Extract rolling window features from time series data.\n",
    "    \n",
    "    Parameters\n",
    "    ----------\n",
    "    data : pd.DataFrame\n",
    "        Preprocessed physiological data with a 'timestamp' column\n",
    "    window_size : int\n",
    "        Size of the rolling window in seconds\n",
    "        \n",
    "    Returns\n",
    "    -------\n",
    "    pd.DataFrame\n",
    "        DataFrame containing extracted features for each signal\n",
    "    \"\"\"\n",
    "    # Ensure timestamp is datetime index\n",
    "    if 'timestamp' in data.columns:\n",
    "        data = data.set_index('timestamp')\n",
    "\n",
    "    features = []\n",
    "\n",
    "    # Group by subject and session\n",
    "    for (subject, session), group in data.groupby(['subject_id', 'session']):\n",
    "        df = group.sort_index()\n",
    "        numeric_cols = df.select_dtypes(include='number').columns\n",
    "\n",
    "        feature_df = pd.DataFrame(index=df.index)\n",
    "\n",
    "        for col in numeric_cols:\n",
    "            roll = df[col].rolling(window=window_size, min_periods=window_size)\n",
    "            feature_df[f'{col}_mean'] = roll.mean()\n",
    "            feature_df[f'{col}_std'] = roll.std()\n",
    "            feature_df[f'{col}_min'] = roll.min()\n",
    "            feature_df[f'{col}_max'] = roll.max()\n",
    "            feature_df[f'{col}_autocorr'] = roll.apply(lambda x: x.autocorr(lag=1), raw=False)\n",
    "\n",
    "        feature_df['subject_id'] = subject\n",
    "        feature_df['session'] = session\n",
    "        features.append(feature_df)\n",
    "\n",
    "    return pd.concat(features).dropna().reset_index()\n"
   ]
  },
  {
   "cell_type": "code",
   "execution_count": 14,
   "metadata": {},
   "outputs": [
    {
     "name": "stdout",
     "output_type": "stream",
     "text": [
      "                  timestamp  heart_rate_mean  heart_rate_std  heart_rate_min  \\\n",
      "0 2018-12-05 16:30:06+00:00       120.990333       12.184715           82.50   \n",
      "1 2018-12-05 16:30:07+00:00       121.242333       12.236002           82.50   \n",
      "2 2018-12-05 16:30:08+00:00       122.072667       11.209745           86.25   \n",
      "3 2018-12-05 16:30:09+00:00       122.670833       10.761403           86.25   \n",
      "4 2018-12-05 16:30:10+00:00       123.453667        9.725641           98.60   \n",
      "\n",
      "   heart_rate_max  heart_rate_autocorr  eda_mean   eda_std   eda_min  \\\n",
      "0          132.19             0.895452  0.023592  0.000448  0.022744   \n",
      "1          132.19             0.962682  0.023598  0.000452  0.022744   \n",
      "2          132.32             0.966036  0.023608  0.000454  0.022744   \n",
      "3          132.32             0.974671  0.023608  0.000454  0.022744   \n",
      "4          133.22             0.978590  0.023614  0.000449  0.022744   \n",
      "\n",
      "    eda_max  eda_autocorr  temperature_mean  temperature_std  temperature_min  \\\n",
      "0  0.024665     -0.174445         22.202000         0.388429            21.87   \n",
      "1  0.024665     -0.178739         22.206333         0.386562            21.87   \n",
      "2  0.024665     -0.165817         22.210333         0.384893            21.87   \n",
      "3  0.024665     -0.184962         22.214000         0.383221            21.87   \n",
      "4  0.024665     -0.193204         22.218000         0.381242            21.87   \n",
      "\n",
      "   temperature_max  temperature_autocorr subject_id session  \n",
      "0            23.57              0.753581         S1   Final  \n",
      "1            23.57              0.751319         S1   Final  \n",
      "2            23.57              0.749110         S1   Final  \n",
      "3            23.57              0.746665         S1   Final  \n",
      "4            23.57              0.743967         S1   Final  \n"
     ]
    }
   ],
   "source": [
    "features_df = extract_time_series_features(processed_data, window_size=60)\n",
    "print(features_df.head())"
   ]
  },
  {
   "cell_type": "markdown",
   "metadata": {},
   "source": [
    "## 2. ARIMA Modeling\n",
    "\n",
    "Implement the `build_arima_model` function to fit ARIMA models and generate diagnostic plots."
   ]
  },
  {
   "cell_type": "code",
   "execution_count": 8,
   "metadata": {},
   "outputs": [],
   "source": [
    "def build_arima_model(series, order=(1,1,1), output_dir='/workspaces/4-it-s-about-time-anagasuri/a-wearable-exam-stress-dataset-for-predicting-cognitive-performance-in-real-world-settings-1.0.0/Data/plots', label=\"series\"):\n",
    "    \n",
    "    \"\"\"Fit an ARIMA model to the time series and generate diagnostic plots.\n",
    "    \n",
    "    Parameters\n",
    "    ----------\n",
    "    series : pd.Series\n",
    "        Time series data to model\n",
    "    order : tuple\n",
    "        (p,d,q) order of the ARIMA model\n",
    "    output_dir : str\n",
    "        Directory to save diagnostic plots\n",
    "        \n",
    "    Returns\n",
    "    -------\n",
    "    statsmodels.tsa.arima.model.ARIMAResults\n",
    "        Fitted ARIMA model\n",
    "    \"\"\"\n",
    "    # Create output directory if it doesn't exist\n",
    "    os.makedirs(output_dir, exist_ok=True)\n",
    "    \n",
    "    # Your code here\n",
    "    # 1. Fit ARIMA model\n",
    "    # 2. Generate diagnostic plots:\n",
    "    #    - Model fit plot\n",
    "    #    - Residuals plot\n",
    "    #    - Forecast plot\n",
    "    # 3. Save plots to output directory\n",
    "    \n",
    "    model = ARIMA(series, order=order)\n",
    "    results = model.fit()\n",
    "\n",
    "    # Plot 1: Fitted vs Actual\n",
    "    plt.figure(figsize=(12, 4))\n",
    "    plt.plot(series, label='Observed')\n",
    "    plt.plot(results.fittedvalues, label='Fitted', linestyle='--')\n",
    "    plt.title(f'ARIMA Fit - {label}')\n",
    "    plt.legend()\n",
    "    plt.tight_layout()\n",
    "    fit_path = os.path.join(output_dir, f'{label}_arima_fit.png')\n",
    "    plt.savefig(fit_path)\n",
    "    plt.close()\n",
    "\n",
    "    # Plot 2: Residuals\n",
    "    plt.figure(figsize=(12, 4))\n",
    "    plt.plot(results.resid)\n",
    "    plt.title(f'ARIMA Residuals - {label}')\n",
    "    plt.tight_layout()\n",
    "    resid_path = os.path.join(output_dir, f'{label}_arima_residuals.png')\n",
    "    plt.savefig(resid_path)\n",
    "    plt.show() \n",
    "    plt.close()\n",
    "\n",
    "    print(f\"Saved: {fit_path} and {resid_path}\")\n",
    "    return results\n"
   ]
  },
  {
   "cell_type": "code",
   "execution_count": 9,
   "metadata": {},
   "outputs": [
    {
     "name": "stderr",
     "output_type": "stream",
     "text": [
      "/home/codespace/.local/lib/python3.12/site-packages/statsmodels/tsa/base/tsa_model.py:473: ValueWarning: No frequency information was provided, so inferred frequency s will be used.\n",
      "  self._init_dates(dates, freq)\n",
      "/home/codespace/.local/lib/python3.12/site-packages/statsmodels/tsa/base/tsa_model.py:473: ValueWarning: No frequency information was provided, so inferred frequency s will be used.\n",
      "  self._init_dates(dates, freq)\n",
      "/home/codespace/.local/lib/python3.12/site-packages/statsmodels/tsa/base/tsa_model.py:473: ValueWarning: No frequency information was provided, so inferred frequency s will be used.\n",
      "  self._init_dates(dates, freq)\n"
     ]
    },
    {
     "data": {
      "image/png": "[encoded data removed]",
      "text/plain": [
       "<Figure size 1200x400 with 1 Axes>"
      ]
     },
     "metadata": {},
     "output_type": "display_data"
    },
    {
     "name": "stdout",
     "output_type": "stream",
     "text": [
      "Saved: plots/S1_Final_heart_rate_arima_fit.png and plots/S1_Final_heart_rate_arima_residuals.png\n"
     ]
    }
   ],
   "source": [
    "series = processed_data[\n",
    "    (processed_data['subject_id'] == 'S1') &\n",
    "    (processed_data['session'] == 'Final')\n",
    "].set_index('timestamp')['heart_rate']\n",
    "\n",
    "model = build_arima_model(series, order=(1, 1, 1), output_dir='plots', label='S1_Final_heart_rate')\n"
   ]
  }
 ],
 "metadata": {
  "kernelspec": {
   "display_name": "Python 3",
   "language": "python",
   "name": "python3"
  },
  "language_info": {
   "codemirror_mode": {
    "name": "ipython",
    "version": 3
   },
   "file_extension": ".py",
   "mimetype": "text/x-python",
   "name": "python",
   "nbconvert_exporter": "python",
   "pygments_lexer": "ipython3",
   "version": "3.12.1"
  }
 },
 "nbformat": 4,
 "nbformat_minor": 4
}
